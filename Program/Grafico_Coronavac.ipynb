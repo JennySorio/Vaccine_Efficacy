{
 "cells": [
  {
   "cell_type": "markdown",
   "metadata": {},
   "source": [
    "# Plots of Coronavac and Santos."
   ]
  },
  {
   "cell_type": "code",
   "execution_count": 1,
   "metadata": {},
   "outputs": [],
   "source": [
    "import pandas as pd \n",
    "import numpy as np\n",
    "import datetime \n",
    "import matplotlib.pyplot as plt \n",
    "from pylab import *\n",
    " \n",
    "#Get Coronavac file data.\n",
    "df = pd.read_excel(r'Coronavac.xlsx')"
   ]
  },
  {
   "cell_type": "code",
   "execution_count": 2,
   "metadata": {},
   "outputs": [
    {
     "data": {
      "text/html": [
       "<div>\n",
       "<style scoped>\n",
       "    .dataframe tbody tr th:only-of-type {\n",
       "        vertical-align: middle;\n",
       "    }\n",
       "\n",
       "    .dataframe tbody tr th {\n",
       "        vertical-align: top;\n",
       "    }\n",
       "\n",
       "    .dataframe thead th {\n",
       "        text-align: right;\n",
       "    }\n",
       "</style>\n",
       "<table border=\"1\" class=\"dataframe\">\n",
       "  <thead>\n",
       "    <tr style=\"text-align: right;\">\n",
       "      <th></th>\n",
       "      <th>Unnamed: 0</th>\n",
       "      <th>Segunda dose</th>\n",
       "      <th>Unnamed: 2</th>\n",
       "      <th>Unnamed: 3</th>\n",
       "      <th>Unnamed: 4</th>\n",
       "      <th>Unnamed: 5</th>\n",
       "      <th>Unnamed: 6</th>\n",
       "    </tr>\n",
       "  </thead>\n",
       "  <tbody>\n",
       "    <tr>\n",
       "      <th>0</th>\n",
       "      <td>NaN</td>\n",
       "      <td>NaN</td>\n",
       "      <td>Braço do estudo antes da quebra do cego</td>\n",
       "      <td>NaN</td>\n",
       "      <td>NaN</td>\n",
       "      <td>NaN</td>\n",
       "      <td>NaN</td>\n",
       "    </tr>\n",
       "    <tr>\n",
       "      <th>1</th>\n",
       "      <td>NaN</td>\n",
       "      <td>Data</td>\n",
       "      <td>Indeterminado</td>\n",
       "      <td>PLACEBO</td>\n",
       "      <td>VACCINE</td>\n",
       "      <td>Total</td>\n",
       "      <td>Fitted</td>\n",
       "    </tr>\n",
       "    <tr>\n",
       "      <th>2</th>\n",
       "      <td>1.0</td>\n",
       "      <td>2020-08-06 00:00:00</td>\n",
       "      <td>0</td>\n",
       "      <td>3</td>\n",
       "      <td>1</td>\n",
       "      <td>4</td>\n",
       "      <td>11.115202</td>\n",
       "    </tr>\n",
       "    <tr>\n",
       "      <th>3</th>\n",
       "      <td>2.0</td>\n",
       "      <td>2020-08-13 00:00:00</td>\n",
       "      <td>0</td>\n",
       "      <td>6</td>\n",
       "      <td>8</td>\n",
       "      <td>14</td>\n",
       "      <td>12.392157</td>\n",
       "    </tr>\n",
       "    <tr>\n",
       "      <th>4</th>\n",
       "      <td>3.0</td>\n",
       "      <td>2020-08-14 00:00:00</td>\n",
       "      <td>1</td>\n",
       "      <td>5</td>\n",
       "      <td>5</td>\n",
       "      <td>11</td>\n",
       "      <td>13.781316</td>\n",
       "    </tr>\n",
       "  </tbody>\n",
       "</table>\n",
       "</div>"
      ],
      "text/plain": [
       "   Unnamed: 0         Segunda dose                               Unnamed: 2  \\\n",
       "0         NaN                  NaN  Braço do estudo antes da quebra do cego   \n",
       "1         NaN                 Data                            Indeterminado   \n",
       "2         1.0  2020-08-06 00:00:00                                        0   \n",
       "3         2.0  2020-08-13 00:00:00                                        0   \n",
       "4         3.0  2020-08-14 00:00:00                                        1   \n",
       "\n",
       "  Unnamed: 3 Unnamed: 4 Unnamed: 5 Unnamed: 6  \n",
       "0        NaN        NaN        NaN        NaN  \n",
       "1    PLACEBO    VACCINE      Total     Fitted  \n",
       "2          3          1          4  11.115202  \n",
       "3          6          8         14  12.392157  \n",
       "4          5          5         11  13.781316  "
      ]
     },
     "execution_count": 2,
     "metadata": {},
     "output_type": "execute_result"
    }
   ],
   "source": [
    "#The structure of the document.\n",
    "df.head()"
   ]
  },
  {
   "cell_type": "code",
   "execution_count": 3,
   "metadata": {},
   "outputs": [
    {
     "data": {
      "text/plain": [
       "Index(['Unnamed: 0', 'Segunda dose', 'Unnamed: 2', 'Unnamed: 3', 'Unnamed: 4',\n",
       "       'Unnamed: 5', 'Unnamed: 6'],\n",
       "      dtype='object')"
      ]
     },
     "execution_count": 3,
     "metadata": {},
     "output_type": "execute_result"
    }
   ],
   "source": [
    "# The document columns.\n",
    "df.columns"
   ]
  },
  {
   "cell_type": "code",
   "execution_count": 4,
   "metadata": {},
   "outputs": [
    {
     "name": "stdout",
     "output_type": "stream",
     "text": [
      "Tamaño de los datos 102\n"
     ]
    }
   ],
   "source": [
    "print('Tamaño de los datos', len(df))"
   ]
  },
  {
   "cell_type": "code",
   "execution_count": 5,
   "metadata": {},
   "outputs": [],
   "source": [
    "# Data reorganization.\n",
    "datos=df.drop(['Unnamed: 0', 'Unnamed: 2','Unnamed: 5'], axis=1)"
   ]
  },
  {
   "cell_type": "code",
   "execution_count": 6,
   "metadata": {},
   "outputs": [
    {
     "data": {
      "text/html": [
       "<div>\n",
       "<style scoped>\n",
       "    .dataframe tbody tr th:only-of-type {\n",
       "        vertical-align: middle;\n",
       "    }\n",
       "\n",
       "    .dataframe tbody tr th {\n",
       "        vertical-align: top;\n",
       "    }\n",
       "\n",
       "    .dataframe thead th {\n",
       "        text-align: right;\n",
       "    }\n",
       "</style>\n",
       "<table border=\"1\" class=\"dataframe\">\n",
       "  <thead>\n",
       "    <tr style=\"text-align: right;\">\n",
       "      <th></th>\n",
       "      <th>Segunda dose</th>\n",
       "      <th>Unnamed: 3</th>\n",
       "      <th>Unnamed: 4</th>\n",
       "      <th>Unnamed: 6</th>\n",
       "    </tr>\n",
       "  </thead>\n",
       "  <tbody>\n",
       "    <tr>\n",
       "      <th>0</th>\n",
       "      <td>NaN</td>\n",
       "      <td>NaN</td>\n",
       "      <td>NaN</td>\n",
       "      <td>NaN</td>\n",
       "    </tr>\n",
       "    <tr>\n",
       "      <th>1</th>\n",
       "      <td>Data</td>\n",
       "      <td>PLACEBO</td>\n",
       "      <td>VACCINE</td>\n",
       "      <td>Fitted</td>\n",
       "    </tr>\n",
       "    <tr>\n",
       "      <th>2</th>\n",
       "      <td>2020-08-06 00:00:00</td>\n",
       "      <td>3</td>\n",
       "      <td>1</td>\n",
       "      <td>11.115202</td>\n",
       "    </tr>\n",
       "    <tr>\n",
       "      <th>3</th>\n",
       "      <td>2020-08-13 00:00:00</td>\n",
       "      <td>6</td>\n",
       "      <td>8</td>\n",
       "      <td>12.392157</td>\n",
       "    </tr>\n",
       "    <tr>\n",
       "      <th>4</th>\n",
       "      <td>2020-08-14 00:00:00</td>\n",
       "      <td>5</td>\n",
       "      <td>5</td>\n",
       "      <td>13.781316</td>\n",
       "    </tr>\n",
       "  </tbody>\n",
       "</table>\n",
       "</div>"
      ],
      "text/plain": [
       "          Segunda dose Unnamed: 3 Unnamed: 4 Unnamed: 6\n",
       "0                  NaN        NaN        NaN        NaN\n",
       "1                 Data    PLACEBO    VACCINE     Fitted\n",
       "2  2020-08-06 00:00:00          3          1  11.115202\n",
       "3  2020-08-13 00:00:00          6          8  12.392157\n",
       "4  2020-08-14 00:00:00          5          5  13.781316"
      ]
     },
     "execution_count": 6,
     "metadata": {},
     "output_type": "execute_result"
    }
   ],
   "source": [
    "datos.head()"
   ]
  },
  {
   "cell_type": "code",
   "execution_count": 7,
   "metadata": {},
   "outputs": [],
   "source": [
    "# Creation of the dates vector.\n",
    "x=np.ones(100)\n",
    "y=np.ones(100)\n",
    "z=np.ones(100)\n",
    "fechas=[]\n",
    "    \n",
    "\n",
    "for i in range(100):\n",
    "    x[i]=datos.iloc[i+2,1]\n",
    "    y[i]=datos.iloc[i+2,2]\n",
    "    z[i]=datos.iloc[i+2,3]\n",
    "    f=datos.iloc[i+2,0]\n",
    "    fechas.append(f)\n",
    "\n",
    "    \n",
    "v=np.linspace(0, 99, 100)"
   ]
  },
  {
   "cell_type": "code",
   "execution_count": 8,
   "metadata": {},
   "outputs": [
    {
     "data": {
      "text/plain": [
       "'06/08/2020'"
      ]
     },
     "execution_count": 8,
     "metadata": {},
     "output_type": "execute_result"
    }
   ],
   "source": [
    "# Organization of the dates vector.\n",
    "\n",
    "for i in range(len(fechas)):\n",
    "    fechas[i]=str(fechas[i])\n",
    "    \n",
    "for i in range(len(fechas)):\n",
    "    fechas[i]=str(fechas[i])\n",
    "    \n",
    "for i in range(len(fechas)):\n",
    "    fechas[i]=fechas[i].replace(\"-\", \"\")\n",
    "    \n",
    "for i in range(len(fechas)):\n",
    "    f1=fechas[i][0:4]\n",
    "    f2=fechas[i][4:6]\n",
    "    f3=fechas[i][6:8]\n",
    "    fechas[i]=f3+'/'+f2+'/'+f1\n",
    "    \n",
    "fechas[0]"
   ]
  },
  {
   "cell_type": "code",
   "execution_count": 9,
   "metadata": {},
   "outputs": [
    {
     "name": "stdout",
     "output_type": "stream",
     "text": [
      "2019-04-20 00:00:00\n"
     ]
    },
    {
     "data": {
      "text/plain": [
       "['06/08/2020',\n",
       " '04/09/2020',\n",
       " '28/09/2020',\n",
       " '22/10/2020',\n",
       " '17/11/2020',\n",
       " '10/12/2020']"
      ]
     },
     "execution_count": 9,
     "metadata": {},
     "output_type": "execute_result"
    }
   ],
   "source": [
    "# Set the date format.\n",
    "\n",
    "una_fecha = '20/04/2019'\n",
    "fecha_dt = datetime.datetime.strptime(una_fecha, '%d/%m/%Y')\n",
    "print(fecha_dt)\n",
    "\n",
    "fecha_nueva=[]\n",
    "\n",
    "f_n=np.linspace(0,100,6)\n",
    "\n",
    "for i in f_n:\n",
    "    d=int(i)\n",
    "    if d== 0:\n",
    "        fecha_nueva.append(fechas[d])\n",
    "    else:\n",
    "        d=d-1\n",
    "        fecha_nueva.append(fechas[d])\n",
    "        \n",
    "fecha_nueva"
   ]
  },
  {
   "cell_type": "code",
   "execution_count": 10,
   "metadata": {},
   "outputs": [
    {
     "data": {
      "text/plain": [
       "['06/08/2020',\n",
       " '13/08/2020',\n",
       " '14/08/2020',\n",
       " '15/08/2020',\n",
       " '17/08/2020',\n",
       " '18/08/2020',\n",
       " '19/08/2020',\n",
       " '20/08/2020',\n",
       " '21/08/2020',\n",
       " '24/08/2020',\n",
       " '25/08/2020',\n",
       " '26/08/2020',\n",
       " '27/08/2020',\n",
       " '28/08/2020',\n",
       " '29/08/2020',\n",
       " '31/08/2020',\n",
       " '01/09/2020',\n",
       " '02/09/2020',\n",
       " '03/09/2020',\n",
       " '04/09/2020',\n",
       " '05/09/2020',\n",
       " '07/09/2020',\n",
       " '08/09/2020',\n",
       " '09/09/2020',\n",
       " '10/09/2020',\n",
       " '11/09/2020',\n",
       " '12/09/2020',\n",
       " '14/09/2020',\n",
       " '15/09/2020',\n",
       " '16/09/2020',\n",
       " '17/09/2020',\n",
       " '18/09/2020',\n",
       " '19/09/2020',\n",
       " '21/09/2020',\n",
       " '22/09/2020',\n",
       " '23/09/2020',\n",
       " '24/09/2020',\n",
       " '25/09/2020',\n",
       " '26/09/2020',\n",
       " '28/09/2020',\n",
       " '29/09/2020',\n",
       " '30/09/2020',\n",
       " '01/10/2020',\n",
       " '02/10/2020',\n",
       " '03/10/2020',\n",
       " '05/10/2020',\n",
       " '06/10/2020',\n",
       " '07/10/2020',\n",
       " '08/10/2020',\n",
       " '09/10/2020',\n",
       " '10/10/2020',\n",
       " '13/10/2020',\n",
       " '14/10/2020',\n",
       " '15/10/2020',\n",
       " '16/10/2020',\n",
       " '17/10/2020',\n",
       " '19/10/2020',\n",
       " '20/10/2020',\n",
       " '21/10/2020',\n",
       " '22/10/2020',\n",
       " '23/10/2020',\n",
       " '24/10/2020',\n",
       " '26/10/2020',\n",
       " '27/10/2020',\n",
       " '28/10/2020',\n",
       " '29/10/2020',\n",
       " '30/10/2020',\n",
       " '31/10/2020',\n",
       " '03/11/2020',\n",
       " '04/11/2020',\n",
       " '05/11/2020',\n",
       " '06/11/2020',\n",
       " '07/11/2020',\n",
       " '09/11/2020',\n",
       " '11/11/2020',\n",
       " '12/11/2020',\n",
       " '13/11/2020',\n",
       " '14/11/2020',\n",
       " '16/11/2020',\n",
       " '17/11/2020',\n",
       " '18/11/2020',\n",
       " '19/11/2020',\n",
       " '20/11/2020',\n",
       " '21/11/2020',\n",
       " '23/11/2020',\n",
       " '24/11/2020',\n",
       " '25/11/2020',\n",
       " '26/11/2020',\n",
       " '27/11/2020',\n",
       " '28/11/2020',\n",
       " '30/11/2020',\n",
       " '01/12/2020',\n",
       " '02/12/2020',\n",
       " '03/12/2020',\n",
       " '04/12/2020',\n",
       " '05/12/2020',\n",
       " '07/12/2020',\n",
       " '08/12/2020',\n",
       " '09/12/2020',\n",
       " '10/12/2020']"
      ]
     },
     "execution_count": 10,
     "metadata": {},
     "output_type": "execute_result"
    }
   ],
   "source": [
    "f_n=np.linspace(0,99,5)\n",
    "f_n\n",
    "fechas"
   ]
  },
  {
   "cell_type": "code",
   "execution_count": 12,
   "metadata": {},
   "outputs": [
    {
     "data": {
      "text/plain": [
       "Text(0.5, 1.0, 'Coronavac')"
      ]
     },
     "execution_count": 12,
     "metadata": {},
     "output_type": "execute_result"
    },
    {
     "data": {
      "image/png": "[encoded data removed]",
      "text/plain": [
       "<Figure size 720x504 with 1 Axes>"
      ]
     },
     "metadata": {
      "needs_background": "light"
     },
     "output_type": "display_data"
    }
   ],
   "source": [
    "# Plot the data from the Coronavac file.\n",
    "\n",
    "plt.plot(fechas,z, c='k')\n",
    "plt.scatter(v,x,c='b',s=25)\n",
    "plt.scatter(v,y,c='r',s=25)\n",
    "\n",
    "plt.rcParams['figure.figsize'] = (10,7)\n",
    "\n",
    "\n",
    "matplotlib.rcParams.update({'font.size': 22})\n",
    "xlabel(\"Date\")\n",
    "ylabel(\"Number of inoculated\")\n",
    "grid()\n",
    "\n",
    "\n",
    "plt.xticks(fecha_nueva,fontsize=12)\n",
    "\n",
    "legend(('Fitted', 'Placebo', 'Vaccine'),\n",
    "prop = {'size':20}, loc = 'upper right')\n",
    "matplotlib.rc('xtick', labelsize=20) \n",
    "matplotlib.rc('ytick', labelsize=20)\n",
    "title('Coronavac')\n",
    "#savefig(\"Coronavac.png\")"
   ]
  },
  {
   "cell_type": "code",
   "execution_count": 13,
   "metadata": {},
   "outputs": [
    {
     "data": {
      "text/html": [
       "<div>\n",
       "<style scoped>\n",
       "    .dataframe tbody tr th:only-of-type {\n",
       "        vertical-align: middle;\n",
       "    }\n",
       "\n",
       "    .dataframe tbody tr th {\n",
       "        vertical-align: top;\n",
       "    }\n",
       "\n",
       "    .dataframe thead th {\n",
       "        text-align: right;\n",
       "    }\n",
       "</style>\n",
       "<table border=\"1\" class=\"dataframe\">\n",
       "  <thead>\n",
       "    <tr style=\"text-align: right;\">\n",
       "      <th></th>\n",
       "      <th>Data</th>\n",
       "      <th>Dia</th>\n",
       "      <th>CasosAcumulados</th>\n",
       "      <th>ObitosAcumulados</th>\n",
       "      <th>CasosNovos</th>\n",
       "      <th>Média móvel</th>\n",
       "      <th>ObitosNovos</th>\n",
       "      <th>Unnamed: 7</th>\n",
       "      <th>Unnamed: 8</th>\n",
       "      <th>Fit Inc</th>\n",
       "      <th>Unnamed: 10</th>\n",
       "      <th>Unnamed: 11</th>\n",
       "    </tr>\n",
       "  </thead>\n",
       "  <tbody>\n",
       "    <tr>\n",
       "      <th>0</th>\n",
       "      <td>2020-02-26</td>\n",
       "      <td>1</td>\n",
       "      <td>0.0</td>\n",
       "      <td>0.0</td>\n",
       "      <td>0.0</td>\n",
       "      <td>0.0</td>\n",
       "      <td>0.0</td>\n",
       "      <td>60.882291</td>\n",
       "      <td>6.088229</td>\n",
       "      <td>0.013957</td>\n",
       "      <td>0.273543</td>\n",
       "      <td>0.004133</td>\n",
       "    </tr>\n",
       "    <tr>\n",
       "      <th>1</th>\n",
       "      <td>2020-02-27</td>\n",
       "      <td>2</td>\n",
       "      <td>0.0</td>\n",
       "      <td>0.0</td>\n",
       "      <td>0.0</td>\n",
       "      <td>0.0</td>\n",
       "      <td>0.0</td>\n",
       "      <td>64.133380</td>\n",
       "      <td>6.413338</td>\n",
       "      <td>0.016189</td>\n",
       "      <td>0.304375</td>\n",
       "      <td>0.004859</td>\n",
       "    </tr>\n",
       "    <tr>\n",
       "      <th>2</th>\n",
       "      <td>2020-02-28</td>\n",
       "      <td>3</td>\n",
       "      <td>0.0</td>\n",
       "      <td>0.0</td>\n",
       "      <td>0.0</td>\n",
       "      <td>0.0</td>\n",
       "      <td>0.0</td>\n",
       "      <td>67.533368</td>\n",
       "      <td>6.753337</td>\n",
       "      <td>0.018756</td>\n",
       "      <td>0.338410</td>\n",
       "      <td>0.005705</td>\n",
       "    </tr>\n",
       "    <tr>\n",
       "      <th>3</th>\n",
       "      <td>2020-02-29</td>\n",
       "      <td>4</td>\n",
       "      <td>0.0</td>\n",
       "      <td>0.0</td>\n",
       "      <td>0.0</td>\n",
       "      <td>0.0</td>\n",
       "      <td>0.0</td>\n",
       "      <td>71.087597</td>\n",
       "      <td>7.108760</td>\n",
       "      <td>0.021707</td>\n",
       "      <td>0.375951</td>\n",
       "      <td>0.006691</td>\n",
       "    </tr>\n",
       "    <tr>\n",
       "      <th>4</th>\n",
       "      <td>2020-03-01</td>\n",
       "      <td>5</td>\n",
       "      <td>0.0</td>\n",
       "      <td>0.0</td>\n",
       "      <td>0.0</td>\n",
       "      <td>0.0</td>\n",
       "      <td>0.0</td>\n",
       "      <td>74.801515</td>\n",
       "      <td>7.480152</td>\n",
       "      <td>0.025095</td>\n",
       "      <td>0.417323</td>\n",
       "      <td>0.007838</td>\n",
       "    </tr>\n",
       "  </tbody>\n",
       "</table>\n",
       "</div>"
      ],
      "text/plain": [
       "        Data  Dia  CasosAcumulados  ObitosAcumulados  CasosNovos  Média móvel  \\\n",
       "0 2020-02-26    1              0.0               0.0         0.0          0.0   \n",
       "1 2020-02-27    2              0.0               0.0         0.0          0.0   \n",
       "2 2020-02-28    3              0.0               0.0         0.0          0.0   \n",
       "3 2020-02-29    4              0.0               0.0         0.0          0.0   \n",
       "4 2020-03-01    5              0.0               0.0         0.0          0.0   \n",
       "\n",
       "   ObitosNovos  Unnamed: 7  Unnamed: 8   Fit Inc  Unnamed: 10  Unnamed: 11  \n",
       "0          0.0   60.882291    6.088229  0.013957     0.273543     0.004133  \n",
       "1          0.0   64.133380    6.413338  0.016189     0.304375     0.004859  \n",
       "2          0.0   67.533368    6.753337  0.018756     0.338410     0.005705  \n",
       "3          0.0   71.087597    7.108760  0.021707     0.375951     0.006691  \n",
       "4          0.0   74.801515    7.480152  0.025095     0.417323     0.007838  "
      ]
     },
     "execution_count": 13,
     "metadata": {},
     "output_type": "execute_result"
    }
   ],
   "source": [
    "# Get Santos file data.\n",
    "df2 = pd.read_excel('Santos.xlsx')\n",
    "df2.head()"
   ]
  },
  {
   "cell_type": "code",
   "execution_count": 14,
   "metadata": {},
   "outputs": [
    {
     "data": {
      "text/plain": [
       "Index(['Data', 'Dia', 'CasosAcumulados', 'ObitosAcumulados', 'CasosNovos',\n",
       "       'Média móvel', 'ObitosNovos', 'Unnamed: 7', 'Unnamed: 8', 'Fit Inc',\n",
       "       'Unnamed: 10', 'Unnamed: 11'],\n",
       "      dtype='object')"
      ]
     },
     "execution_count": 14,
     "metadata": {},
     "output_type": "execute_result"
    }
   ],
   "source": [
    "# The document columns.\n",
    "df2.columns"
   ]
  },
  {
   "cell_type": "code",
   "execution_count": 15,
   "metadata": {},
   "outputs": [],
   "source": [
    "# Data reorganization.\n",
    "\n",
    "datos2=df2.drop(['Dia', 'CasosAcumulados', 'ObitosAcumulados', 'CasosNovos', 'ObitosNovos'], axis=1)"
   ]
  },
  {
   "cell_type": "code",
   "execution_count": 16,
   "metadata": {},
   "outputs": [
    {
     "data": {
      "text/html": [
       "<div>\n",
       "<style scoped>\n",
       "    .dataframe tbody tr th:only-of-type {\n",
       "        vertical-align: middle;\n",
       "    }\n",
       "\n",
       "    .dataframe tbody tr th {\n",
       "        vertical-align: top;\n",
       "    }\n",
       "\n",
       "    .dataframe thead th {\n",
       "        text-align: right;\n",
       "    }\n",
       "</style>\n",
       "<table border=\"1\" class=\"dataframe\">\n",
       "  <thead>\n",
       "    <tr style=\"text-align: right;\">\n",
       "      <th></th>\n",
       "      <th>Data</th>\n",
       "      <th>Média móvel</th>\n",
       "      <th>Unnamed: 7</th>\n",
       "      <th>Unnamed: 8</th>\n",
       "      <th>Fit Inc</th>\n",
       "      <th>Unnamed: 10</th>\n",
       "      <th>Unnamed: 11</th>\n",
       "    </tr>\n",
       "  </thead>\n",
       "  <tbody>\n",
       "    <tr>\n",
       "      <th>0</th>\n",
       "      <td>2020-02-26</td>\n",
       "      <td>0.0</td>\n",
       "      <td>60.882291</td>\n",
       "      <td>6.088229</td>\n",
       "      <td>0.013957</td>\n",
       "      <td>0.273543</td>\n",
       "      <td>0.004133</td>\n",
       "    </tr>\n",
       "    <tr>\n",
       "      <th>1</th>\n",
       "      <td>2020-02-27</td>\n",
       "      <td>0.0</td>\n",
       "      <td>64.133380</td>\n",
       "      <td>6.413338</td>\n",
       "      <td>0.016189</td>\n",
       "      <td>0.304375</td>\n",
       "      <td>0.004859</td>\n",
       "    </tr>\n",
       "    <tr>\n",
       "      <th>2</th>\n",
       "      <td>2020-02-28</td>\n",
       "      <td>0.0</td>\n",
       "      <td>67.533368</td>\n",
       "      <td>6.753337</td>\n",
       "      <td>0.018756</td>\n",
       "      <td>0.338410</td>\n",
       "      <td>0.005705</td>\n",
       "    </tr>\n",
       "    <tr>\n",
       "      <th>3</th>\n",
       "      <td>2020-02-29</td>\n",
       "      <td>0.0</td>\n",
       "      <td>71.087597</td>\n",
       "      <td>7.108760</td>\n",
       "      <td>0.021707</td>\n",
       "      <td>0.375951</td>\n",
       "      <td>0.006691</td>\n",
       "    </tr>\n",
       "    <tr>\n",
       "      <th>4</th>\n",
       "      <td>2020-03-01</td>\n",
       "      <td>0.0</td>\n",
       "      <td>74.801515</td>\n",
       "      <td>7.480152</td>\n",
       "      <td>0.025095</td>\n",
       "      <td>0.417323</td>\n",
       "      <td>0.007838</td>\n",
       "    </tr>\n",
       "  </tbody>\n",
       "</table>\n",
       "</div>"
      ],
      "text/plain": [
       "        Data  Média móvel  Unnamed: 7  Unnamed: 8   Fit Inc  Unnamed: 10  \\\n",
       "0 2020-02-26          0.0   60.882291    6.088229  0.013957     0.273543   \n",
       "1 2020-02-27          0.0   64.133380    6.413338  0.016189     0.304375   \n",
       "2 2020-02-28          0.0   67.533368    6.753337  0.018756     0.338410   \n",
       "3 2020-02-29          0.0   71.087597    7.108760  0.021707     0.375951   \n",
       "4 2020-03-01          0.0   74.801515    7.480152  0.025095     0.417323   \n",
       "\n",
       "   Unnamed: 11  \n",
       "0     0.004133  \n",
       "1     0.004859  \n",
       "2     0.005705  \n",
       "3     0.006691  \n",
       "4     0.007838  "
      ]
     },
     "execution_count": 16,
     "metadata": {},
     "output_type": "execute_result"
    }
   ],
   "source": [
    "datos2.head()"
   ]
  },
  {
   "cell_type": "code",
   "execution_count": 17,
   "metadata": {},
   "outputs": [
    {
     "name": "stdout",
     "output_type": "stream",
     "text": [
      "Tamaño de los datos 234\n"
     ]
    }
   ],
   "source": [
    "print('Tamaño de los datos', len(df2))"
   ]
  },
  {
   "cell_type": "code",
   "execution_count": 19,
   "metadata": {},
   "outputs": [],
   "source": [
    "# Export the data.\n",
    "x2=np.ones(202)\n",
    "y2=np.ones(231)\n",
    "z2=np.ones(231)\n",
    "w2=np.ones(231)\n",
    "fechas2=[]\n",
    "\n",
    "\n",
    "for i in range(202):\n",
    "    x2[i]=datos2.iloc[i,1]#Moving average.\n",
    "    \n",
    "for i in range(231):\n",
    "    y2[i]=datos2.iloc[i,5]#Variance sup.\n",
    "    z2[i]=datos2.iloc[i,4]#Fitted\n",
    "    w2[i]=datos2.iloc[i,6]#Variance inf.\n",
    "    f=datos2.iloc[i,0]\n",
    "    fechas2.append(f)\n",
    "\n",
    "    \n",
    "v=np.linspace(0, 230, 231)\n",
    "v2=np.linspace(0, 201, 202)"
   ]
  },
  {
   "cell_type": "code",
   "execution_count": 20,
   "metadata": {},
   "outputs": [
    {
     "data": {
      "text/plain": [
       "'26/02/2020'"
      ]
     },
     "execution_count": 20,
     "metadata": {},
     "output_type": "execute_result"
    }
   ],
   "source": [
    "# Creation of the dates vector.\n",
    "\n",
    "for i in range(len(fechas2)):\n",
    "    fechas2[i]=str(fechas2[i])\n",
    "    \n",
    "for i in range(len(fechas2)):\n",
    "    fechas2[i]=str(fechas2[i])\n",
    "    \n",
    "for i in range(len(fechas2)):\n",
    "    fechas2[i]=fechas2[i].replace(\"-\", \"\")\n",
    "    \n",
    "for i in range(len(fechas2)):\n",
    "    f1=fechas2[i][0:4]\n",
    "    f2=fechas2[i][4:6]\n",
    "    f3=fechas2[i][6:8]\n",
    "    fechas2[i]=f3+'/'+f2+'/'+f1\n",
    "    \n",
    "fechas2[0]"
   ]
  },
  {
   "cell_type": "code",
   "execution_count": 21,
   "metadata": {},
   "outputs": [
    {
     "data": {
      "text/plain": [
       "['26/02/2020',\n",
       " '01/04/2020',\n",
       " '08/05/2020',\n",
       " '14/06/2020',\n",
       " '21/07/2020',\n",
       " '27/08/2020',\n",
       " '03/10/2020']"
      ]
     },
     "execution_count": 21,
     "metadata": {},
     "output_type": "execute_result"
    }
   ],
   "source": [
    "# Set the date format.\n",
    "\n",
    "fecha_nueva2=[]\n",
    "\n",
    "f_n2=np.linspace(0,221,7)\n",
    "\n",
    "for i in f_n2:\n",
    "    d=int(i)\n",
    "    if d== 0:\n",
    "        fecha_nueva2.append(fechas2[d])\n",
    "    else:\n",
    "        d=d-1\n",
    "        fecha_nueva2.append(fechas2[d])\n",
    "        \n",
    "fecha_nueva2"
   ]
  },
  {
   "cell_type": "code",
   "execution_count": 90,
   "metadata": {},
   "outputs": [
    {
     "data": {
      "image/png": "[encoded data removed]",
      "text/plain": [
       "<Figure size 720x504 with 1 Axes>"
      ]
     },
     "metadata": {
      "needs_background": "light"
     },
     "output_type": "display_data"
    }
   ],
   "source": [
    "# Plot the data from the Santos file.\n",
    "\n",
    "plt.plot(fechas2,z2, c='k')\n",
    "plt.scatter(v2,x2,c='b',s=25)\n",
    "plt.scatter(v,y2,c='r',s=25)\n",
    "plt.scatter(v,w2,c='r',s=25)\n",
    "\n",
    "plt.rcParams['figure.figsize'] = (10,7)\n",
    "\n",
    "\n",
    "matplotlib.rcParams.update({'font.size': 22})\n",
    "xlabel(\"Date\")\n",
    "ylabel(\"Daily incidence of COVID-19\")\n",
    "grid()\n",
    "\n",
    "\n",
    "plt.xticks(fecha_nueva2,fontsize=12)\n",
    "\n",
    "#legend(('Fitted'), #'Placebo', 'Vaccine'),\n",
    "#prop = {'size':20}, loc = 'upper right')\n",
    "matplotlib.rc('xtick', labelsize=20) \n",
    "matplotlib.rc('ytick', labelsize=20)\n",
    "#title('Coronavac')\n",
    "#savefig(\"fig2.png\")"
   ]
  },
  {
   "cell_type": "code",
   "execution_count": null,
   "metadata": {},
   "outputs": [],
   "source": []
  }
 ],
 "metadata": {
  "kernelspec": {
   "display_name": "Python 3 (ipykernel)",
   "language": "python",
   "name": "python3"
  },
  "language_info": {
   "codemirror_mode": {
    "name": "ipython",
    "version": 3
   },
   "file_extension": ".py",
   "mimetype": "text/x-python",
   "name": "python",
   "nbconvert_exporter": "python",
   "pygments_lexer": "ipython3",
   "version": "3.10.8"
  }
 },
 "nbformat": 4,
 "nbformat_minor": 4
}
