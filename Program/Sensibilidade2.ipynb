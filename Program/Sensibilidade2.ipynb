{
 "cells": [
  {
   "cell_type": "markdown",
   "metadata": {},
   "source": [
    "# Sensitivity of the parameters."
   ]
  },
  {
   "cell_type": "code",
   "execution_count": 1,
   "metadata": {},
   "outputs": [],
   "source": [
    "import pandas as pd \n",
    "\n",
    "import numpy as np\n",
    "\n",
    "import math\n",
    "\n",
    "import matplotlib.pyplot as plt \n",
    "\n",
    "from pylab import *\n",
    "\n",
    "from scipy import integrate"
   ]
  },
  {
   "cell_type": "markdown",
   "metadata": {},
   "source": [
    "# Integral model."
   ]
  },
  {
   "cell_type": "code",
   "execution_count": 2,
   "metadata": {},
   "outputs": [],
   "source": [
    "from scipy.integrate import quad\n",
    "\n",
    "def lamb(t,c2):\n",
    "    c1, c3 = 220, 1650\n",
    "    return 8*c1*math.exp(-(t-c2)**2/c3)/500000\n",
    "\n",
    "def phi(t,c2):\n",
    "    return quad(lamb,0,t, args=(c2))[0]\n",
    "\n",
    "def S(t,S_0,nu,c2):\n",
    "    return S_0*math.exp(-phi(t,c2) - nu*t)\n",
    "\n",
    "def P_l(t,S_0,q,nu, c2):\n",
    "    return S_0*(1-q)*(math.exp(-phi(t,c2))-math.exp(-phi(t, c2) - nu*t))\n",
    "\n",
    "def g_p(t, S_0,q,nu, c2):\n",
    "    return P_l(t,S_0,q,nu, c2)*lamb(t,c2)\n",
    "\n",
    "def I_p(T,S_0,q,nu,c2):\n",
    "    return quad(g_p,0,T,args=(S_0,q,nu,c2))[0]\n",
    "\n",
    "def g(t,nu,sigma,c2):\n",
    "    return -phi(t,c2)-(nu*t) + (sigma*t)\n",
    "\n",
    "def g_v(t,nu,sigma,c2):\n",
    "    return math.exp(g(t,nu,sigma,c2))\n",
    "\n",
    "#def g_v2(t,T,nu,sigma):#    return math.exp(-phi(t)-(nu*t) + (sigma*(t-T)))\n",
    "\n",
    "def V(T,S_0,q,nu,sigma,c2):\n",
    "    return q*S_0*nu*math.exp(-sigma*T)*quad(g_v,0,T,args=(nu, sigma,c2))[0]\n",
    "\n",
    "def g_f(t,S_0,q,nu,sigma,c2):\n",
    "    return V(t,S_0,q,nu,sigma,c2)*math.exp(phi(t,c2)) \n",
    "\n",
    "def F(T,S_0,q,nu,sigma,w,c2):\n",
    "    return (1-w)*sigma*math.exp(-phi(T,c2))*quad(g_f,0,T,args=(S_0,q,nu,sigma,c2))[0]\n",
    "\n",
    "def P(T,S_0,q,nu,sigma,w,c2):\n",
    "    return w*sigma*(quad(V,0,T, args=(S_0,q,nu,sigma,c2))[0])\n",
    "\n",
    "def g_iv(t,S_0,q,nu,sigma,w,c2):\n",
    "    return lamb(t,c2)*F(t,S_0,q,nu,sigma,w,c2)\n",
    "\n",
    "def I_v(T,S_0,q,nu,sigma,w,c2):\n",
    "    return quad(g_iv,0,T,args=(S_0,q,nu,sigma,w,c2))[0]"
   ]
  },
  {
   "cell_type": "code",
   "execution_count": 3,
   "metadata": {},
   "outputs": [
    {
     "data": {
      "text/plain": [
       "98022.50374382392"
      ]
     },
     "execution_count": 3,
     "metadata": {},
     "output_type": "execute_result"
    }
   ],
   "source": [
    "S_0=20000\n",
    "c2=100\n",
    "q, w, nu, sigma = 0.5, 0.7, 0.028, 0.1\n",
    "#P(100,S_0,q,nu,sigma,w)\n",
    "def pba(t,nu,sigma):\n",
    "    return t\n",
    "T=2000\n",
    "pba(1000,nu,sigma)\n",
    "quad(V,0,2000,args=(S_0,q,nu, sigma,c2))[0]"
   ]
  },
  {
   "cell_type": "markdown",
   "metadata": {},
   "source": [
    "# T>0"
   ]
  },
  {
   "cell_type": "markdown",
   "metadata": {},
   "source": [
    "# Parameters:\n",
    "#    1.q\n",
    " #   2.w\n",
    " #   3.$\\nu$\n",
    " #   4.$\\sigma$"
   ]
  },
  {
   "cell_type": "code",
   "execution_count": 4,
   "metadata": {},
   "outputs": [],
   "source": [
    "\n",
    "#Sensitivity of parameter q:\n",
    "\n",
    "def sensibilidad_1(T,S_0,q,nu,sigma,w,c2):\n",
    "    dp_l=-P_l(T,S_0,0,nu,c2)\n",
    "    #dv=V(T,S_0,1,nu, sigma)\n",
    "    df=F(T,S_0,1,nu,sigma,w,c2)\n",
    "    dp=P(T,S_0,1,nu,sigma,w,c2)\n",
    "    di_v=I_v(T,S_0,1,nu,sigma,w,c2)\n",
    "    di_p=-I_p(T,S_0,0,nu,c2)\n",
    "    p_l=P_l(T,S_0,q,nu,c2)\n",
    "    v=V(T,S_0,q,nu, sigma,c2)\n",
    "    f=F(T,S_0,q,nu,sigma,w,c2)\n",
    "    p=P(T,S_0,q,nu,sigma,w,c2)\n",
    "    i_v=I_v(T,S_0,q,nu,sigma,w,c2)\n",
    "    i_p=I_p(T,S_0,q,nu,c2)\n",
    "    \n",
    "    A=((i_v*p_l)*(di_p*(i_v+f)+i_p*dp))/(i_p*(i_v+f+p))\n",
    "    B=((i_p+p_l)*(i_v*(dp+df)-di_v*(p+f)))/(i_v+f+p)\n",
    "    C=i_v*dp_l\n",
    "    D=q/(i_p*(p+f)-(i_v*p_l))\n",
    "    \n",
    "    return (A+B-C)*D"
   ]
  },
  {
   "cell_type": "code",
   "execution_count": 5,
   "metadata": {},
   "outputs": [],
   "source": [
    "#Sensitivity of parameter w:\n",
    "\n",
    "def sensibilidad_2(T,S_0,q,nu,sigma,w,c2):\n",
    "    dp_l=0\n",
    "    df=-F(T,S_0,q,nu,sigma,0,c2)\n",
    "    dp=P(T,S_0,q,nu,sigma,1,c2)\n",
    "    di_v=-I_v(T,S_0,q,nu,sigma,0,c2)\n",
    "    di_p=0\n",
    "    p_l=P_l(T,S_0,q,nu,c2)\n",
    "    f=F(T,S_0,q,nu,sigma,w,c2)\n",
    "    p=P(T,S_0,q,nu,sigma,w,c2)\n",
    "    i_v=I_v(T,S_0,q,nu,sigma,w,c2)\n",
    "    i_p=I_p(T,S_0,q,nu,c2)\n",
    "    \n",
    "    A=((i_v*p_l)*(di_p*(i_v+f)+i_p*dp))/(i_p*(i_v+f+p))\n",
    "    B=((i_p+p_l)*(i_v*(dp+df)-di_v*(p+f)))/(i_v+f+p)\n",
    "    D=w/(i_p*(p+f)-(i_v*p_l))\n",
    "    \n",
    "    return (A+B)*D"
   ]
  },
  {
   "cell_type": "code",
   "execution_count": 6,
   "metadata": {},
   "outputs": [],
   "source": [
    "#Sensitivity of parameter nu:\n",
    "\n",
    "def g_dv(t,nu,sigma,c2):\n",
    "    return t*g_v(t,nu,sigma,c2)\n",
    "\n",
    "def dV_nu(T,S_0,q,nu,sigma,c2):\n",
    "    A=-q*S_0*nu*math.exp(-sigma*T)*quad(g_dv,0,T,args=(nu, sigma,c2))[0]\n",
    "    return A+(V(T,S_0,q,nu,sigma,c2)/nu)\n",
    "\n",
    "def g_df(t,S_0,q,nu,sigma,c2):\n",
    "    return dV_nu(t,S_0,q,nu,sigma,c2)*math.exp(phi(t,c2)) \n",
    "\n",
    "def dF_nu(T,S_0,q,nu,sigma,w,c2):\n",
    "    return (1-w)*sigma*math.exp(-phi(T,c2))*quad(g_df,0,T,args=(S_0,q,nu,sigma,c2))[0]\n",
    "\n",
    "def g_div(t,S_0,q,nu,sigma,w,c2):\n",
    "    return lamb(t,c2)*dF_nu(t,S_0,q,nu,sigma,w,c2)\n",
    "\n",
    "def g_dip(t,S_0,q,nu,sigma,c2):\n",
    "    return t*(1-q)*S(t,S_0,nu,c2)*lamb(t,c2)\n",
    "\n",
    "def dIp_nu(T,S_0,q,nu,sigma,c2):\n",
    "    return quad(g_dip,0,T,args=(S_0,q,nu,sigma,c2))[0]\n",
    "\n",
    "def sensibilidad_3(T,S_0,q,nu,sigma,w,c2):\n",
    "    dp_l=T*(1-q)*S(T,S_0,nu,c2)\n",
    "    df=dF_nu(T,S_0,q,nu,sigma,w,c2)\n",
    "    dp=sigma*w*quad(dV_nu,0,T,args=(S_0,q,nu,sigma,c2))[0]\n",
    "    di_v=quad(g_div,0,T,args=(S_0,q,nu,sigma,w,c2))[0]\n",
    "    di_p=dIp_nu(T,S_0,q,nu,sigma,c2)\n",
    "    p_l=P_l(T,S_0,q,nu,c2)\n",
    "    f=F(T,S_0,q,nu,sigma,w,c2)\n",
    "    p=P(T,S_0,q,nu,sigma,w,c2)\n",
    "    i_v=I_v(T,S_0,q,nu,sigma,w,c2)\n",
    "    i_p=I_p(T,S_0,q,nu,c2)\n",
    "    \n",
    "    A=((i_v*p_l)*(di_p*(i_v+f)+i_p*dp))/(i_p*(i_v+f+p))\n",
    "    B=((i_p+p_l)*(i_v*(dp+df)-di_v*(p+f)))/(i_v+f+p)\n",
    "    C=i_v*dp_l\n",
    "    D=nu/(i_p*(p+f)-(i_v*p_l))\n",
    "    \n",
    "    return (A+B-C)*D"
   ]
  },
  {
   "cell_type": "code",
   "execution_count": 7,
   "metadata": {},
   "outputs": [],
   "source": [
    "#Sensitivity of parameter sigma:\n",
    "\n",
    "def dV_sig(T,S_0,q,nu,sigma,c2):\n",
    "    A=q*S_0*nu*math.exp(-sigma*T)*quad(g_dv,0,T,args=(nu, sigma,c2))[0]\n",
    "    return A-(sigma*V(T,S_0,q,nu,sigma,c2))\n",
    "\n",
    "def f_df(t,S_0,q,nu,sigma,c2):\n",
    "    return dV_sig(t,S_0,q,nu,sigma,c2)*math.exp(phi(t,c2)) \n",
    "\n",
    "def dF_sig(T,S_0,q,nu,sigma,w,c2):\n",
    "    A=(1-w)*sigma*math.exp(-phi(T,c2))*quad(f_df,0,T,args=(S_0,q,nu,sigma,c2))[0]\n",
    "    return A+ (F(T,S_0,q,nu,sigma,w,c2)/sigma)\n",
    "\n",
    "def f_div(t,S_0,q,nu,sigma,w,c2):\n",
    "    return lamb(t,c2)*dF_sig(t,S_0,q,nu,sigma,w,c2)\n",
    "\n",
    "def sensibilidad_4(T,S_0,q,nu,sigma,w,c2):\n",
    "    dp_l=0\n",
    "    df=dF_sig(T,S_0,q,nu,sigma,w,c2)\n",
    "    dp=w*(quad(V,0,T, args=(S_0,q,nu,sigma,c2))[0]) + sigma*w*quad(dV_sig,0,T,args=(S_0,q,nu,sigma,c2))[0]\n",
    "    di_v=quad(f_div,0,T,args=(S_0,q,nu,sigma,w,c2))[0]\n",
    "    di_p=0\n",
    "    p_l=P_l(T,S_0,q,nu,c2)\n",
    "    v=V(T,S_0,q,nu, sigma,c2)\n",
    "    f=F(T,S_0,q,nu,sigma,w,c2)\n",
    "    p=P(T,S_0,q,nu,sigma,w,c2)\n",
    "    i_v=I_v(T,S_0,q,nu,sigma,w,c2)\n",
    "    i_p=I_p(T,S_0,q,nu,c2)\n",
    "    \n",
    "    A=((i_v*p_l)*(di_p*(i_v+f)+i_p*dp))/(i_p*(i_v+f+p))\n",
    "    B=((i_p+p_l)*(i_v*(dp+df)-di_v*(p+f)))/(i_v+f+p)\n",
    "    C=i_v*dp_l\n",
    "    D=sigma/(i_p*(p+f)-(i_v*p_l))\n",
    "    \n",
    "    return (A+B-C)*D"
   ]
  },
  {
   "cell_type": "code",
   "execution_count": 8,
   "metadata": {},
   "outputs": [],
   "source": [
    "#Sensitivity of parameter lambda:\n",
    "\n",
    "def dV_lamb(T,S_0,q,nu,sigma,c2):\n",
    "    return -q*S_0*nu*math.exp(-sigma*T)*quad(g_dv,0,T,args=(nu, sigma,c2))[0]\n",
    "\n",
    "def dF_lamb(t,S_0,q,nu,sigma,w,c2):\n",
    "    return math.exp(-phi(t,c2))*(t*V(t,S_0,q,nu,sigma,c2)+dV_lamb(t,S_0,q,nu,sigma,c2))\n",
    "\n",
    "def DF_lam(T,S_0,q,nu,sigma,w,c2): #Derivada de F.\n",
    "    return -T*F(T,S_0,q,nu,sigma,w,c2)+(1-w)*sigma*math.exp(-phi(T,c2))*quad(dF_lamb,0,T,args=(S_0,q,nu,sigma,w,c2))[0]\n",
    "\n",
    "def DF_lam_2(T,S_0,q,nu,sigma,w,c2):\n",
    "    return lamb(T,c2)*DF_lam(T,S_0,q,nu,sigma,w,c2)\n",
    "\n",
    "def dI_p(t,S_0,q,nu, c2):\n",
    "    return P_l(t,S_0,q,nu,c2) + t*lamb(t,c2)*P_l(t,S_0,q,nu, c2) \n",
    "\n",
    "def sensibilidad_5(T,S_0,q,nu,sigma,w,c2):\n",
    "    dp_l=-T*P_l(T,S_0,q,nu,c2)\n",
    "    df=DF_lam(T,S_0,q,nu,sigma,w,c2)\n",
    "    dp=sigma*w*quad(dV_lamb,0,T,args=(S_0,q,nu,sigma,c2))[0]\n",
    "    di_v=quad(F,0,T,args=(S_0,q,nu,sigma,w,c2))[0] + quad(DF_lam_2,0,T,args=(S_0,q,nu,sigma,w,c2))[0]\n",
    "    di_p=quad(dI_p,0,T,args=(S_0,q,nu,c2))[0]\n",
    "    p_l=P_l(T,S_0,q,nu,c2)\n",
    "    f=F(T,S_0,q,nu,sigma,w,c2)\n",
    "    p=P(T,S_0,q,nu,sigma,w,c2)\n",
    "    i_v=I_v(T,S_0,q,nu,sigma,w,c2)\n",
    "    i_p=I_p(T,S_0,q,nu,c2)\n",
    "    \n",
    "    A=((i_v*p_l)*(di_p*(i_v+f)+i_p*dp))/(i_p*(i_v+f+p))\n",
    "    B=((i_p+p_l)*(i_v*(dp+df)-di_v*(p+f)))/(i_v+f+p)\n",
    "    C=i_v*dp_l\n",
    "    D=lamb(T,c2)/(i_p*(p+f)-(i_v*p_l))\n",
    "    \n",
    "    return (A+B-C)*D"
   ]
  },
  {
   "cell_type": "code",
   "execution_count": 9,
   "metadata": {},
   "outputs": [],
   "source": [
    "#Sensitivity of parameter tau:\n",
    "\n",
    "def D_lam(t,c2): #Derivative of the incidence function.\n",
    "    return 2*(t-c2)*lamb(t,c2)/1650\n",
    "\n",
    "def int_lam(T,c2): #Derivative of the integral of the incidence.\n",
    "    return quad(D_lam,0,T,args=(c2))[0]\n",
    "\n",
    "def DV_c2(t,nu,sigma,c2):\n",
    "    return int_lam(t,c2)*math.exp(g(t,nu,sigma,c2))\n",
    "\n",
    "def dV_c2(T,S_0,q,nu,sigma,c2):#Derivative of V with respect to nu.\n",
    "    return-q*S_0*nu*math.exp(-sigma*T)*quad(DV_c2,0,T,args=(nu, sigma,c2))[0]\n",
    "\n",
    "def DF_c2(t,S_0,q,nu,sigma,c2):\n",
    "    return math.exp(phi(t,c2))*(dV_c2(t,S_0,q,nu,sigma,c2)+(V(t,S_0,q,nu,sigma,c2)*int_lam(t,c2))) \n",
    "\n",
    "def dF_c2(T,S_0,q,nu,sigma,w,c2): # Derivative of F with respect to nu.\n",
    "    return -int_lam(T,c2)*F(T,S_0,q,nu,sigma,w,c2)+(1-w)*sigma*math.exp(-phi(T,c2))*quad(DF_c2,0,T,args=(S_0,q,nu,sigma,c2))[0]\n",
    "\n",
    "def DIV_c2(t,S_0,q,nu,sigma,w,c2):#Important function for derivative of I_v with respect to nu.\n",
    "    return (D_lam(t,c2)*F(t,S_0,q,nu,sigma,w,c2))+ (lamb(t,c2)*dF_c2(T,S_0,q,nu,sigma,w,c2))\n",
    "\n",
    "def DIP_c2(t,S_0,q,nu,sigma,w,c2):\n",
    "    return -lamb(t,c2)*int_lam(T,c2)*P_l(T,S_0,q,nu, c2)+ D_lam(t,c2)*P_l(T,S_0,q,nu, c2)\n",
    "\n",
    "def sensibilidad_6(T,S_0,q,nu,sigma,w,c2):\n",
    "    dp_l=-int_lam(T,c2)*P_l(T,S_0,q,nu, c2)\n",
    "    df=dF_c2(T,S_0,q,nu,sigma,w,c2)\n",
    "    dp=sigma*w*quad(dV_c2,0,T,args=(S_0,q,nu,sigma,c2))[0]\n",
    "    di_v=quad(DIV_c2,0,T,args=(S_0,q,nu,sigma,w,c2))[0]\n",
    "    di_p=quad(DIP_c2,0,T,args=(S_0,q,nu,sigma,w,c2))[0]\n",
    "    p_l=P_l(T,S_0,q,nu,c2)\n",
    "    f=F(T,S_0,q,nu,sigma,w,c2)\n",
    "    p=P(T,S_0,q,nu,sigma,w,c2)\n",
    "    i_v=I_v(T,S_0,q,nu,sigma,w,c2)\n",
    "    i_p=I_p(T,S_0,q,nu,c2)\n",
    "    \n",
    "    A=((i_v*p_l)*(di_p*(i_v+f)+i_p*dp))/(i_p*(i_v+f+p))\n",
    "    B=((i_p+p_l)*(i_v*(dp+df)-di_v*(p+f)))/(i_v+f+p)\n",
    "    C=i_v*dp_l\n",
    "    D=c2/(i_p*(p+f)-(i_v*p_l))\n",
    "    \n",
    "    return (A+B-C)*D"
   ]
  },
  {
   "cell_type": "code",
   "execution_count": 10,
   "metadata": {},
   "outputs": [
    {
     "data": {
      "text/plain": [
       "1.5000969766184211"
      ]
     },
     "execution_count": 10,
     "metadata": {},
     "output_type": "execute_result"
    }
   ],
   "source": [
    "T=60\n",
    "c2=100\n",
    "S_0, q, w, nu, sigma = 20000, 0.5, 0.7, 0.028, 0.1\n",
    "sensibilidad_6(T,S_0,q,nu,sigma,w,c2)"
   ]
  },
  {
   "cell_type": "markdown",
   "metadata": {},
   "source": [
    "# Sensitivity calculations"
   ]
  },
  {
   "cell_type": "code",
   "execution_count": 11,
   "metadata": {},
   "outputs": [
    {
     "data": {
      "text/plain": [
       "[0.5348, 0.5092, 0.4596, 0.4545, 0.4541, 0.4541, 0.4541]"
      ]
     },
     "execution_count": 11,
     "metadata": {},
     "output_type": "execute_result"
    }
   ],
   "source": [
    "vector=[50, 100,150, 200, 300, 500, 1000]\n",
    "Par_1=[]\n",
    "for k in vector:\n",
    "    Par_1.append(round(sensibilidad_1(k,S_0,q,nu,sigma,w,c2),4))\n",
    "    \n",
    "Par_1\n",
    "        \n",
    "    "
   ]
  },
  {
   "cell_type": "code",
   "execution_count": 12,
   "metadata": {},
   "outputs": [
    {
     "data": {
      "text/plain": [
       "[1.1666, 1.209, 1.1901, 1.1846, 1.183, 1.1829, 1.1829]"
      ]
     },
     "execution_count": 12,
     "metadata": {},
     "output_type": "execute_result"
    }
   ],
   "source": [
    "vector=[50, 100,150, 200, 300, 500, 1000]\n",
    "Par_2=[]\n",
    "for k in vector:\n",
    "    Par_2.append(round(sensibilidad_2(k,S_0,q,nu,sigma,w,c2),4))\n",
    "    \n",
    "Par_2\n",
    "     "
   ]
  },
  {
   "cell_type": "code",
   "execution_count": 13,
   "metadata": {},
   "outputs": [
    {
     "data": {
      "text/plain": [
       "[-0.0007, -0.0185, -0.0324, -0.0438, -0.0499, -0.0506, -0.0506]"
      ]
     },
     "execution_count": 13,
     "metadata": {},
     "output_type": "execute_result"
    }
   ],
   "source": [
    "vector=[50, 100,150, 200, 300, 500, 1000]\n",
    "Par_3=[]\n",
    "for k in vector:\n",
    "    Par_3.append(round(sensibilidad_3(k,S_0,q,nu,sigma,w,c2),4))\n",
    "    \n",
    "Par_3\n",
    "     "
   ]
  },
  {
   "cell_type": "code",
   "execution_count": 14,
   "metadata": {},
   "outputs": [
    {
     "data": {
      "text/plain": [
       "[0.8193, 1.1042, 1.163, 1.2401, 1.2831, 1.2875]"
      ]
     },
     "execution_count": 14,
     "metadata": {},
     "output_type": "execute_result"
    }
   ],
   "source": [
    "vector=[50, 100,150, 200, 300, 500]\n",
    "Par_4=[]\n",
    "for k in vector:\n",
    "    Par_4.append(round(sensibilidad_4(k,S_0,q,nu,sigma,w,c2),4))\n",
    "    \n",
    "Par_4"
   ]
  },
  {
   "cell_type": "code",
   "execution_count": 15,
   "metadata": {},
   "outputs": [
    {
     "data": {
      "text/plain": [
       "[-0.5827, -0.3821, -0.0603, -0.001, -0.0, -0.0]"
      ]
     },
     "execution_count": 15,
     "metadata": {},
     "output_type": "execute_result"
    }
   ],
   "source": [
    "vector=[50, 100,150, 200, 300, 500]\n",
    "Par_5=[]\n",
    "for k in vector:\n",
    "    Par_5.append(round(sensibilidad_5(k,S_0,q,nu,sigma,w,c2),4))\n",
    "    \n",
    "Par_5"
   ]
  },
  {
   "cell_type": "code",
   "execution_count": 16,
   "metadata": {},
   "outputs": [
    {
     "data": {
      "text/plain": [
       "[1.6261, 0.6178, 0.0167, -0.0537, -0.0544, -0.0544]"
      ]
     },
     "execution_count": 16,
     "metadata": {},
     "output_type": "execute_result"
    }
   ],
   "source": [
    "vector=[50, 100,150, 200, 300, 500]\n",
    "Par_6=[]\n",
    "for k in vector:\n",
    "    Par_6.append(round(sensibilidad_6(k,S_0,q,nu,sigma,w,c2),4))\n",
    "    \n",
    "Par_6"
   ]
  },
  {
   "cell_type": "code",
   "execution_count": 17,
   "metadata": {},
   "outputs": [
    {
     "data": {
      "text/plain": [
       "[-0.0, -0.0, -0.0, -0.0, -0.0, -0.0]"
      ]
     },
     "execution_count": 17,
     "metadata": {},
     "output_type": "execute_result"
    }
   ],
   "source": [
    "c2=0\n",
    "vector=[50, 100,150, 200, 300, 500]\n",
    "Par_7=[]\n",
    "for k in vector:\n",
    "    Par_7.append(round(sensibilidad_6(k,S_0,q,nu,sigma,w,c2),4))\n",
    "    \n",
    "Par_7"
   ]
  },
  {
   "cell_type": "markdown",
   "metadata": {},
   "source": [
    "# T= $\\infty$"
   ]
  },
  {
   "cell_type": "code",
   "execution_count": 18,
   "metadata": {},
   "outputs": [
    {
     "name": "stdout",
     "output_type": "stream",
     "text": [
      "0.4541\n",
      "1.1829\n",
      "-0.0506\n",
      "1.2876\n",
      "-0.0\n",
      "-0.0159\n"
     ]
    }
   ],
   "source": [
    "T=5000\n",
    "c2=100\n",
    "S_0, q, w, nu, sigma = 20000, 0.5, 0.7, 0.028, 0.1\n",
    "\n",
    "print(round(sensibilidad_1(T,S_0,q,nu,sigma,w,c2),4))\n",
    "print(round(sensibilidad_2(T,S_0,q,nu,sigma,w,c2),4))\n",
    "print(round(sensibilidad_3(T,S_0,q,nu,sigma,w,c2),4))\n",
    "print(round(sensibilidad_4(T,S_0,q,nu,sigma,w,c2),4))\n",
    "print(round(sensibilidad_5(T,S_0,q,nu,sigma,w,c2),4))\n",
    "print(round(sensibilidad_6(T,S_0,q,nu,sigma,w,c2),4))"
   ]
  },
  {
   "cell_type": "code",
   "execution_count": null,
   "metadata": {},
   "outputs": [],
   "source": []
  }
 ],
 "metadata": {
  "kernelspec": {
   "display_name": "Python 3 (ipykernel)",
   "language": "python",
   "name": "python3"
  },
  "language_info": {
   "codemirror_mode": {
    "name": "ipython",
    "version": 3
   },
   "file_extension": ".py",
   "mimetype": "text/x-python",
   "name": "python",
   "nbconvert_exporter": "python",
   "pygments_lexer": "ipython3",
   "version": "3.10.8"
  }
 },
 "nbformat": 4,
 "nbformat_minor": 4
}
